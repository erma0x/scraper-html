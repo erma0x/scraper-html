{
 "cells": [
  {
   "cell_type": "code",
   "execution_count": 21,
   "id": "laden-elevation",
   "metadata": {},
   "outputs": [],
   "source": [
    "import pandas as pd\n",
    "import subprocess"
   ]
  },
  {
   "cell_type": "code",
   "execution_count": 16,
   "id": "analyzed-possibility",
   "metadata": {},
   "outputs": [
    {
     "data": {
      "text/html": [
       "<div>\n",
       "<style scoped>\n",
       "    .dataframe tbody tr th:only-of-type {\n",
       "        vertical-align: middle;\n",
       "    }\n",
       "\n",
       "    .dataframe tbody tr th {\n",
       "        vertical-align: top;\n",
       "    }\n",
       "\n",
       "    .dataframe thead th {\n",
       "        text-align: right;\n",
       "    }\n",
       "</style>\n",
       "<table border=\"1\" class=\"dataframe\">\n",
       "  <thead>\n",
       "    <tr style=\"text-align: right;\">\n",
       "      <th></th>\n",
       "      <th>0</th>\n",
       "    </tr>\n",
       "  </thead>\n",
       "  <tbody>\n",
       "    <tr>\n",
       "      <th>0</th>\n",
       "      <td>https://aiesec.org/search?earliest_start_date=...</td>\n",
       "    </tr>\n",
       "    <tr>\n",
       "      <th>1</th>\n",
       "      <td>https://aiesec.org/search?earliest_start_date=...</td>\n",
       "    </tr>\n",
       "    <tr>\n",
       "      <th>2</th>\n",
       "      <td>https://aiesec.org/search?earliest_start_date=...</td>\n",
       "    </tr>\n",
       "    <tr>\n",
       "      <th>3</th>\n",
       "      <td>https://aiesec.org/search?earliest_start_date=...</td>\n",
       "    </tr>\n",
       "    <tr>\n",
       "      <th>4</th>\n",
       "      <td>https://aiesec.org/search?earliest_start_date=...</td>\n",
       "    </tr>\n",
       "  </tbody>\n",
       "</table>\n",
       "</div>"
      ],
      "text/plain": [
       "                                                   0\n",
       "0  https://aiesec.org/search?earliest_start_date=...\n",
       "1  https://aiesec.org/search?earliest_start_date=...\n",
       "2  https://aiesec.org/search?earliest_start_date=...\n",
       "3  https://aiesec.org/search?earliest_start_date=...\n",
       "4  https://aiesec.org/search?earliest_start_date=..."
      ]
     },
     "execution_count": 16,
     "metadata": {},
     "output_type": "execute_result"
    }
   ],
   "source": [
    "df = pd.read_csv('links.txt',header=None ,skiprows=0)\n",
    "df.head()"
   ]
  },
  {
   "cell_type": "code",
   "execution_count": 20,
   "id": "enabling-vatican",
   "metadata": {},
   "outputs": [
    {
     "name": "stdout",
     "output_type": "stream",
     "text": [
      "https://aiesec.org/search?earliest_start_date=2022-4-6&programmes=8&duration_type=long&home_mcs=1544\n",
      "https://aiesec.org/search?earliest_start_date=2022-4-6&programmes=8&duration_type=long&home_mcs=1547\n",
      "https://aiesec.org/search?earliest_start_date=2022-4-6&programmes=8&duration_type=long&home_mcs=1549\n",
      "https://aiesec.org/search?earliest_start_date=2022-4-6&programmes=8&duration_type=long&home_mcs=1554\n",
      "https://aiesec.org/search?earliest_start_date=2022-4-6&programmes=8&duration_type=long&home_mcs=1555\n",
      "https://aiesec.org/search?earliest_start_date=2022-4-6&programmes=8&duration_type=long&home_mcs=1558\n",
      "https://aiesec.org/search?earliest_start_date=2022-4-6&programmes=8&duration_type=long&home_mcs=1560\n",
      "https://aiesec.org/search?earliest_start_date=2022-4-6&programmes=8&duration_type=long&home_mcs=1564\n",
      "https://aiesec.org/search?earliest_start_date=2022-4-6&programmes=8&duration_type=long&home_mcs=1570\n",
      "https://aiesec.org/search?earliest_start_date=2022-4-6&programmes=8&duration_type=long&home_mcs=1573\n",
      "https://aiesec.org/search?earliest_start_date=2022-4-6&programmes=8&duration_type=long&home_mcs=1580\n",
      "https://aiesec.org/search?earliest_start_date=2022-4-6&programmes=8&duration_type=long&home_mcs=1588\n",
      "https://aiesec.org/search?earliest_start_date=2022-4-6&programmes=8&duration_type=long&home_mcs=1592\n",
      "https://aiesec.org/search?earliest_start_date=2022-4-6&programmes=8&duration_type=long&home_mcs=1596\n",
      "https://aiesec.org/search?earliest_start_date=2022-4-6&programmes=8&duration_type=long&home_mcs=1598\n",
      "https://aiesec.org/search?earliest_start_date=2022-4-6&programmes=8&duration_type=long&home_mcs=1610\n",
      "https://aiesec.org/search?earliest_start_date=2022-4-6&programmes=8&duration_type=long&home_mcs=1619\n",
      "https://aiesec.org/search?earliest_start_date=2022-4-6&programmes=8&duration_type=long&home_mcs=1622\n",
      "https://aiesec.org/search?earliest_start_date=2022-4-6&programmes=8&duration_type=long&home_mcs=1624\n",
      "https://aiesec.org/search?earliest_start_date=2022-4-6&programmes=8&duration_type=medium&home_mcs=1544\n",
      "https://aiesec.org/search?earliest_start_date=2022-4-6&programmes=8&duration_type=medium&home_mcs=1547\n",
      "https://aiesec.org/search?earliest_start_date=2022-4-6&programmes=8&duration_type=medium&home_mcs=1549\n",
      "https://aiesec.org/search?earliest_start_date=2022-4-6&programmes=8&duration_type=medium&home_mcs=1554\n",
      "https://aiesec.org/search?earliest_start_date=2022-4-6&programmes=8&duration_type=medium&home_mcs=1555\n",
      "https://aiesec.org/search?earliest_start_date=2022-4-6&programmes=8&duration_type=medium&home_mcs=1558\n",
      "https://aiesec.org/search?earliest_start_date=2022-4-6&programmes=8&duration_type=medium&home_mcs=1560\n",
      "https://aiesec.org/search?earliest_start_date=2022-4-6&programmes=8&duration_type=medium&home_mcs=1564\n",
      "https://aiesec.org/search?earliest_start_date=2022-4-6&programmes=8&duration_type=medium&home_mcs=1570\n",
      "https://aiesec.org/search?earliest_start_date=2022-4-6&programmes=8&duration_type=medium&home_mcs=1573\n",
      "https://aiesec.org/search?earliest_start_date=2022-4-6&programmes=8&duration_type=medium&home_mcs=1580\n",
      "https://aiesec.org/search?earliest_start_date=2022-4-6&programmes=8&duration_type=medium&home_mcs=1588\n",
      "https://aiesec.org/search?earliest_start_date=2022-4-6&programmes=8&duration_type=medium&home_mcs=1592\n",
      "https://aiesec.org/search?earliest_start_date=2022-4-6&programmes=8&duration_type=medium&home_mcs=1596\n",
      "https://aiesec.org/search?earliest_start_date=2022-4-6&programmes=8&duration_type=medium&home_mcs=1598\n",
      "https://aiesec.org/search?earliest_start_date=2022-4-6&programmes=8&duration_type=medium&home_mcs=1610\n",
      "https://aiesec.org/search?earliest_start_date=2022-4-6&programmes=8&duration_type=medium&home_mcs=1619\n",
      "https://aiesec.org/search?earliest_start_date=2022-4-6&programmes=8&duration_type=medium&home_mcs=1622\n",
      "https://aiesec.org/search?earliest_start_date=2022-4-6&programmes=8&duration_type=medium&home_mcs=1624\n",
      "https://aiesec.org/search?earliest_start_date=2022-4-6&programmes=8&duration_type=short&home_mcs=1544\n",
      "https://aiesec.org/search?earliest_start_date=2022-4-6&programmes=8&duration_type=short&home_mcs=1547\n",
      "https://aiesec.org/search?earliest_start_date=2022-4-6&programmes=8&duration_type=short&home_mcs=1549\n",
      "https://aiesec.org/search?earliest_start_date=2022-4-6&programmes=8&duration_type=short&home_mcs=1554\n",
      "https://aiesec.org/search?earliest_start_date=2022-4-6&programmes=8&duration_type=short&home_mcs=1555\n",
      "https://aiesec.org/search?earliest_start_date=2022-4-6&programmes=8&duration_type=short&home_mcs=1558\n",
      "https://aiesec.org/search?earliest_start_date=2022-4-6&programmes=8&duration_type=short&home_mcs=1560\n",
      "https://aiesec.org/search?earliest_start_date=2022-4-6&programmes=8&duration_type=short&home_mcs=1564\n",
      "https://aiesec.org/search?earliest_start_date=2022-4-6&programmes=8&duration_type=short&home_mcs=1570\n",
      "https://aiesec.org/search?earliest_start_date=2022-4-6&programmes=8&duration_type=short&home_mcs=1573\n",
      "https://aiesec.org/search?earliest_start_date=2022-4-6&programmes=8&duration_type=short&home_mcs=1580\n",
      "https://aiesec.org/search?earliest_start_date=2022-4-6&programmes=8&duration_type=short&home_mcs=1588\n",
      "https://aiesec.org/search?earliest_start_date=2022-4-6&programmes=8&duration_type=short&home_mcs=1592\n",
      "https://aiesec.org/search?earliest_start_date=2022-4-6&programmes=8&duration_type=short&home_mcs=1596\n",
      "https://aiesec.org/search?earliest_start_date=2022-4-6&programmes=8&duration_type=short&home_mcs=1598\n",
      "https://aiesec.org/search?earliest_start_date=2022-4-6&programmes=8&duration_type=short&home_mcs=1610\n",
      "https://aiesec.org/search?earliest_start_date=2022-4-6&programmes=8&duration_type=short&home_mcs=1619\n",
      "https://aiesec.org/search?earliest_start_date=2022-4-6&programmes=8&duration_type=short&home_mcs=1622\n",
      "https://aiesec.org/search?earliest_start_date=2022-4-6&programmes=8&duration_type=short&home_mcs=1624\n",
      "https://aiesec.org/search?earliest_start_date=2022-4-6&programmes=9&duration_type=long&home_mcs=1544\n",
      "https://aiesec.org/search?earliest_start_date=2022-4-6&programmes=9&duration_type=long&home_mcs=1547\n",
      "https://aiesec.org/search?earliest_start_date=2022-4-6&programmes=9&duration_type=long&home_mcs=1549\n",
      "https://aiesec.org/search?earliest_start_date=2022-4-6&programmes=9&duration_type=long&home_mcs=1554\n",
      "https://aiesec.org/search?earliest_start_date=2022-4-6&programmes=9&duration_type=long&home_mcs=1555\n",
      "https://aiesec.org/search?earliest_start_date=2022-4-6&programmes=9&duration_type=long&home_mcs=1558\n",
      "https://aiesec.org/search?earliest_start_date=2022-4-6&programmes=9&duration_type=long&home_mcs=1560\n",
      "https://aiesec.org/search?earliest_start_date=2022-4-6&programmes=9&duration_type=long&home_mcs=1564\n",
      "https://aiesec.org/search?earliest_start_date=2022-4-6&programmes=9&duration_type=long&home_mcs=1570\n",
      "https://aiesec.org/search?earliest_start_date=2022-4-6&programmes=9&duration_type=long&home_mcs=1573\n",
      "https://aiesec.org/search?earliest_start_date=2022-4-6&programmes=9&duration_type=long&home_mcs=1580\n",
      "https://aiesec.org/search?earliest_start_date=2022-4-6&programmes=9&duration_type=long&home_mcs=1588\n",
      "https://aiesec.org/search?earliest_start_date=2022-4-6&programmes=9&duration_type=long&home_mcs=1592\n",
      "https://aiesec.org/search?earliest_start_date=2022-4-6&programmes=9&duration_type=long&home_mcs=1596\n",
      "https://aiesec.org/search?earliest_start_date=2022-4-6&programmes=9&duration_type=long&home_mcs=1598\n",
      "https://aiesec.org/search?earliest_start_date=2022-4-6&programmes=9&duration_type=long&home_mcs=1610\n",
      "https://aiesec.org/search?earliest_start_date=2022-4-6&programmes=9&duration_type=long&home_mcs=1619\n",
      "https://aiesec.org/search?earliest_start_date=2022-4-6&programmes=9&duration_type=long&home_mcs=1622\n",
      "https://aiesec.org/search?earliest_start_date=2022-4-6&programmes=9&duration_type=long&home_mcs=1624\n",
      "https://aiesec.org/search?earliest_start_date=2022-4-6&programmes=9&duration_type=medium&home_mcs=1544\n",
      "https://aiesec.org/search?earliest_start_date=2022-4-6&programmes=9&duration_type=medium&home_mcs=1547\n",
      "https://aiesec.org/search?earliest_start_date=2022-4-6&programmes=9&duration_type=medium&home_mcs=1549\n",
      "https://aiesec.org/search?earliest_start_date=2022-4-6&programmes=9&duration_type=medium&home_mcs=1554\n",
      "https://aiesec.org/search?earliest_start_date=2022-4-6&programmes=9&duration_type=medium&home_mcs=1555\n",
      "https://aiesec.org/search?earliest_start_date=2022-4-6&programmes=9&duration_type=medium&home_mcs=1558\n",
      "https://aiesec.org/search?earliest_start_date=2022-4-6&programmes=9&duration_type=medium&home_mcs=1560\n",
      "https://aiesec.org/search?earliest_start_date=2022-4-6&programmes=9&duration_type=medium&home_mcs=1564\n",
      "https://aiesec.org/search?earliest_start_date=2022-4-6&programmes=9&duration_type=medium&home_mcs=1570\n",
      "https://aiesec.org/search?earliest_start_date=2022-4-6&programmes=9&duration_type=medium&home_mcs=1573\n",
      "https://aiesec.org/search?earliest_start_date=2022-4-6&programmes=9&duration_type=medium&home_mcs=1580\n",
      "https://aiesec.org/search?earliest_start_date=2022-4-6&programmes=9&duration_type=medium&home_mcs=1588\n",
      "https://aiesec.org/search?earliest_start_date=2022-4-6&programmes=9&duration_type=medium&home_mcs=1592\n",
      "https://aiesec.org/search?earliest_start_date=2022-4-6&programmes=9&duration_type=medium&home_mcs=1596\n",
      "https://aiesec.org/search?earliest_start_date=2022-4-6&programmes=9&duration_type=medium&home_mcs=1598\n",
      "https://aiesec.org/search?earliest_start_date=2022-4-6&programmes=9&duration_type=medium&home_mcs=1610\n",
      "https://aiesec.org/search?earliest_start_date=2022-4-6&programmes=9&duration_type=medium&home_mcs=1619\n",
      "https://aiesec.org/search?earliest_start_date=2022-4-6&programmes=9&duration_type=medium&home_mcs=1622\n",
      "https://aiesec.org/search?earliest_start_date=2022-4-6&programmes=9&duration_type=medium&home_mcs=1624\n",
      "https://aiesec.org/search?earliest_start_date=2022-4-6&programmes=9&duration_type=short&home_mcs=1544\n",
      "https://aiesec.org/search?earliest_start_date=2022-4-6&programmes=9&duration_type=short&home_mcs=1547\n",
      "https://aiesec.org/search?earliest_start_date=2022-4-6&programmes=9&duration_type=short&home_mcs=1549\n",
      "https://aiesec.org/search?earliest_start_date=2022-4-6&programmes=9&duration_type=short&home_mcs=1554\n",
      "https://aiesec.org/search?earliest_start_date=2022-4-6&programmes=9&duration_type=short&home_mcs=1555\n",
      "https://aiesec.org/search?earliest_start_date=2022-4-6&programmes=9&duration_type=short&home_mcs=1558\n",
      "https://aiesec.org/search?earliest_start_date=2022-4-6&programmes=9&duration_type=short&home_mcs=1560\n",
      "https://aiesec.org/search?earliest_start_date=2022-4-6&programmes=9&duration_type=short&home_mcs=1564\n",
      "https://aiesec.org/search?earliest_start_date=2022-4-6&programmes=9&duration_type=short&home_mcs=1570\n",
      "https://aiesec.org/search?earliest_start_date=2022-4-6&programmes=9&duration_type=short&home_mcs=1573\n",
      "https://aiesec.org/search?earliest_start_date=2022-4-6&programmes=9&duration_type=short&home_mcs=1580\n",
      "https://aiesec.org/search?earliest_start_date=2022-4-6&programmes=9&duration_type=short&home_mcs=1588\n",
      "https://aiesec.org/search?earliest_start_date=2022-4-6&programmes=9&duration_type=short&home_mcs=1592\n",
      "https://aiesec.org/search?earliest_start_date=2022-4-6&programmes=9&duration_type=short&home_mcs=1596\n",
      "https://aiesec.org/search?earliest_start_date=2022-4-6&programmes=9&duration_type=short&home_mcs=1598\n",
      "https://aiesec.org/search?earliest_start_date=2022-4-6&programmes=9&duration_type=short&home_mcs=1610\n",
      "https://aiesec.org/search?earliest_start_date=2022-4-6&programmes=9&duration_type=short&home_mcs=1619\n",
      "https://aiesec.org/search?earliest_start_date=2022-4-6&programmes=9&duration_type=short&home_mcs=1622\n",
      "https://aiesec.org/search?earliest_start_date=2022-4-6&programmes=9&duration_type=short&home_mcs=1624\n"
     ]
    }
   ],
   "source": [
    "for i in df[0]:\n",
    "    print(i)"
   ]
  },
  {
   "cell_type": "code",
   "execution_count": 28,
   "id": "attended-evolution",
   "metadata": {},
   "outputs": [
    {
     "data": {
      "text/plain": [
       "b'<!doctype html>\\n<html xmlns=\"http://www.w3.org/1999/xhtml\" lang=\"en\">\\n<head>\\n    <base href=\"/\">\\n    <meta charset=\"utf-8\">\\n    <meta name=\"description\" content=\"Activate your leadership by going on an AIESEC experience. Find opportunities to live a shared responsibility for the world and shape it for a better future.\"/>\\n    <!-- Twitter Card data -->\\n    <meta name=\"twitter:card\" content=\"summary_large_image\">\\n    <meta name=\"twitter:site\" content=\"@aiesec\">\\n    <meta name=\"twitter:title\" content=\"Develop your leadership | AIESEC\">\\n    <meta name=\"twitter:description\" content=\"Activate your leadership by going on an AIESEC experience. Find opportunities to live a shared responsibility for the world and shape it for a better future.\">\\n    <meta name=\"twitter:creator\" content=\"@aiesec\">\\n    <!-- Twitter summary card with large image must be at least 280x150px -->\\n    <meta name=\"twitter:image:src\" content=\"https://s3-eu-west-1.amazonaws.com/cdn.expa.aiesec.org/assets/images/aiesec_org/mobile_main.jpg\">\\n    <!-- Open Graph data -->\\n    <meta property=\"og:title\" content=\"Develop your leadership | AIESEC\"/>\\n    <meta property=\"og:type\" content=\"article\"/>\\n    <meta property=\"og:url\" content=\"https://aiesec.org/\"/>\\n    <meta property=\"og:image\" content=\"https://s3-eu-west-1.amazonaws.com/cdn.expa.aiesec.org/assets/images/aiesec_org/mobile_main.jpg\"/>\\n    <meta property=\"og:description\" content=\"Activate your leadership by going on an AIESEC experience. Find opportunities to live a shared responsibility for the world and shape it for a better future.\"/>\\n    <meta property=\"og:site_name\" content=\"AIESEC\"/>\\n    <meta property=\"fb:app_id\" content=\"1157537144372133\"/>\\n    <meta name=\"viewport\" content=\"width=device-width, initial-scale=1, maximum-scale=1, user-scalable=no\"/>\\n    <title>Develop your leadership | AIESEC</title>\\n    <!-- Font styles -->\\n    <link rel=\"preload\" href=\"./assets/styles/fonts/cm-aiesec.woff2?k0yvs9\">\\n    <link rel=\"stylesheet\" type=\"text/css\" href=\"./assets/styles/style.css\">\\n    <link rel=\"stylesheet\" href=\"https://d1azc1qln24ryf.cloudfront.net/120939/YOP/style-cf.css?3zz4jx\">\\n    <link href=\"https://fonts.googleapis.com/css2?family=Merriweather&display=swap\" rel=\"stylesheet\">\\n    <script async=\"\" src=\"https://cdnjs.cloudflare.com/ajax/libs/hammer.js/2.0.8/hammer.min.js\" integrity=\"sha384-Cs3dgUx6+jDxxuqHvVH8Onpyj2LF1gKZurLDlhqzuJmUqVYMJ0THTWpxK5Z086Zm\" crossorigin=\"anonymous\"></script>\\n    <!-- Address bar color -->\\n    <meta name=\"theme-color\" content=\"#037ef3\"/>\\n  <link rel=\"manifest\" href=\"manifest.webmanifest\">\\n  <meta name=\"theme-color\" content=\"#1976d2\">\\n<link rel=\"stylesheet\" href=\"styles.cc4c5aec6616d0785779.css\"></head>\\n\\n<body>\\n<!-- Google Tag Manager (noscript) -->\\n<noscript>\\n    <iframe title=\"Google tag manager\" src=\"https://www.googletagmanager.com/ns.html?id=GTM-M7CQPCB\" height=\"0\" width=\"0\"\\n            style=\"display:none;visibility:hidden\"></iframe>\\n</noscript>\\n<!-- End Google Tag Manager (noscript) -->\\n<script>\\nwindow.__aiesec = {}\\n</script>\\n<app-root></app-root>\\n<link rel=\"icon\" type=\"image/x-png\" href=\"./assets/images/favicon.png\">\\n\\n<!-- Google Charts -->\\n<script>\\n    // !important: You want to give this variable(var googleLoaded = false;). This is used to run multiple chart in your jade.\\n    let googleLoaded = false;\\n    // !important: Define which chart packages to preload.Because this package uses ChartWrappers you can use any chart type that Google supports, but if it // isn\\'t loaded it will load it on demand.\\n    let googleChartsPackagesToLoad = [\\'geochart\\'];\\n</script>\\n<!-- AIESEC Germany Script -->\\n<script async=\"\" src=\"https://bookmarks.aiesec.de/v2/bookmarklets/aiesecBookmarklet.min.js\"></script>\\n<script>\\n  setTimeout(() => {\\n    // Differ loading of firebase sw for perf benefits\\n    if (\\'serviceWorker\\' in navigator) {\\n      navigator.serviceWorker.register(\\'./firebase-messaging-sw.js\\').then(function (registration) {\\n      }).catch(function (err) {\\n        console.log(\\'Firbase Service Worker registration failed: \\', err);\\n      });\\n    }\\n  }, 5000);\\n</script>\\n<audio id=\"notificationSound\">\\n    <source src=\"assets/audio/notification.mp3\" type=\"audio/mpeg\">\\n    <source src=\"assets/audio/notification.ogg\" type=\"audio/ogg\">\\n    <embed hidden=\"true\" autostart=\"true\" loop=\"false\" src=\"assets/audio/notification.mp3\">\\n</audio>\\n<!-- Script to be loaded later -->\\n<script id=\"crispChatScript\"></script>\\n<script id=\"intentScript\"></script>\\n<script src=\"runtime-es2015.ff880eb2a3b4d57e7a85.js\" type=\"module\"></script><script src=\"runtime-es5.ff880eb2a3b4d57e7a85.js\" nomodule defer></script><script src=\"polyfills-es5.baac249815003a8965a3.js\" nomodule defer></script><script src=\"main-es2015.ffa302fbc1ede764378d.js\" type=\"module\"></script><script src=\"main-es5.ffa302fbc1ede764378d.js\" nomodule defer></script></body>\\n\\n</html>'"
      ]
     },
     "execution_count": 28,
     "metadata": {},
     "output_type": "execute_result"
    }
   ],
   "source": [
    "link = \"https://aiesec.org/search?earliest_start_date=2022-4-6&programmes=8&duration_type=long&home_mcs=1622\"\n",
    "result = subprocess.check_output(\"curl '{0}'\".format(link), shell=True )\n",
    "result"
   ]
  },
  {
   "cell_type": "code",
   "execution_count": 31,
   "id": "adapted-velvet",
   "metadata": {},
   "outputs": [],
   "source": [
    "with open('results.txt', 'a') as out:\n",
    "    out.write(str(result) + '\\n')\n",
    "    "
   ]
  },
  {
   "cell_type": "code",
   "execution_count": 32,
   "id": "pleasant-creativity",
   "metadata": {},
   "outputs": [],
   "source": [
    "with open('results.txt', 'a') as out:\n",
    "    for link in df[0]:\n",
    "        result = subprocess.check_output(\"curl '{0}'\".format(link), shell=True )\n",
    "        out.write(str(result) + '\\n\\n\\n')"
   ]
  },
  {
   "cell_type": "code",
   "execution_count": null,
   "id": "tamil-defendant",
   "metadata": {},
   "outputs": [],
   "source": []
  }
 ],
 "metadata": {
  "kernelspec": {
   "display_name": "Python 3",
   "language": "python",
   "name": "python3"
  },
  "language_info": {
   "codemirror_mode": {
    "name": "ipython",
    "version": 3
   },
   "file_extension": ".py",
   "mimetype": "text/x-python",
   "name": "python",
   "nbconvert_exporter": "python",
   "pygments_lexer": "ipython3",
   "version": "3.9.7"
  }
 },
 "nbformat": 4,
 "nbformat_minor": 5
}
